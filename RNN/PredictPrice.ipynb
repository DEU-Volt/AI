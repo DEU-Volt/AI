{
 "cells": [
  {
   "cell_type": "code",
   "execution_count": 3,
   "metadata": {},
   "outputs": [],
   "source": [
    "import pandas as pd\n",
    "\n",
    "csv = pd.read_csv('train_data_add.csv')\n",
    "titles_csv = csv['title']\n",
    "prices_csv = csv['price']"
   ]
  },
  {
   "cell_type": "code",
   "execution_count": 2,
   "metadata": {},
   "outputs": [],
   "source": [
    "import pickle\n",
    "from konlpy.tag import Okt\n",
    "import random\n",
    "\n",
    "try:\n",
    "    with open(\"titles_words.bin\", \"rb\") as f:\n",
    "        titles_words = pickle.load(f)\n",
    "    with open(\"dictionary.bin\", \"rb\") as f:\n",
    "        dictionary = pickle.load(f)\n",
    "    with open(\"titles_ids.bin\", \"rb\") as f:\n",
    "        titles_ids = pickle.load(f)\n",
    "        \n",
    "except Exception as e:\n",
    "    okt = Okt()\n",
    "    words_set = set()\n",
    "    titles_words = []\n",
    "    count = 1\n",
    "    for title in titles_csv:\n",
    "        title_pos = okt.pos(title, norm=True)\n",
    "        words = []\n",
    "        for word in title_pos:\n",
    "            words_set.add(word[0])\n",
    "            words.append(word[0])\n",
    "        titles_words.append(words)\n",
    "        count += 1\n",
    "        \n",
    "    dictionary = list(words_set)\n",
    "    random.shuffle(dictionary)\n",
    "    dictionary = [0] + dictionary\n",
    "    titles_ids = []\n",
    "    count = 1\n",
    "    for title in titles_words:\n",
    "        words_id = []\n",
    "        for words in title:\n",
    "            words_id.append(dictionary.index(words))\n",
    "        titles_ids.append(words_id)\n",
    "        count += 1\n",
    "        \n",
    "    with open(\"titles_words.bin\", \"wb\") as f:\n",
    "        pickle.dump(titles_words, f)\n",
    "    with open(\"dictionary.bin\", \"wb\") as f:\n",
    "        pickle.dump(dictionary, f)\n",
    "    with open(\"titles_ids.bin\", \"wb\") as f:\n",
    "        pickle.dump(titles_ids, f)"
   ]
  },
  {
   "cell_type": "code",
   "execution_count": 3,
   "metadata": {},
   "outputs": [
    {
     "data": {
      "text/plain": [
       "6875"
      ]
     },
     "execution_count": 3,
     "metadata": {},
     "output_type": "execute_result"
    }
   ],
   "source": [
    "len(dictionary)"
   ]
  },
  {
   "cell_type": "code",
   "execution_count": 4,
   "metadata": {},
   "outputs": [],
   "source": [
    "def ids_to_words(ids):\n",
    "    words = []\n",
    "    for word_id in ids:\n",
    "        words.append(dictionary[word_id])\n",
    "    return words"
   ]
  },
  {
   "cell_type": "code",
   "execution_count": 5,
   "metadata": {},
   "outputs": [
    {
     "name": "stdout",
     "output_type": "stream",
     "text": [
      "['갤럭시', 'j', '7']\n",
      "[5889, 412, 1822]\n",
      "['갤럭시', 'j', '7']\n"
     ]
    }
   ],
   "source": [
    "print(titles_words[0])\n",
    "print(titles_ids[0])\n",
    "print(ids_to_words(titles_ids[0]))"
   ]
  },
  {
   "cell_type": "code",
   "execution_count": 6,
   "metadata": {},
   "outputs": [
    {
     "name": "stdout",
     "output_type": "stream",
     "text": [
      "29\n"
     ]
    }
   ],
   "source": [
    "max_title_len = max(len(title_ids) for title_ids in titles_ids)\n",
    "print(max_title_len)"
   ]
  },
  {
   "cell_type": "code",
   "execution_count": 7,
   "metadata": {},
   "outputs": [
    {
     "name": "stderr",
     "output_type": "stream",
     "text": [
      "Using TensorFlow backend.\n"
     ]
    },
    {
     "name": "stdout",
     "output_type": "stream",
     "text": [
      "[[5889  412 1822 ...    0    0    0]\n",
      " [3378 3607    0 ...    0    0    0]\n",
      " [4263 5993 6799 ...    0    0    0]\n",
      " ...\n",
      " [4676 4527 2466 ...    0    0    0]\n",
      " [5889 1887  391 ...    0    0    0]\n",
      " [5889 1887  391 ...    0    0    0]]\n",
      "[[  50000]\n",
      " [  50000]\n",
      " [  50000]\n",
      " ...\n",
      " [3100000]\n",
      " [3950000]\n",
      " [3950000]]\n"
     ]
    }
   ],
   "source": [
    "from keras.preprocessing import sequence\n",
    "import numpy as np\n",
    "\n",
    "titles_ids_np = sequence.pad_sequences(titles_ids, maxlen=max_title_len, padding='post')\n",
    "print(titles_ids_np)\n",
    "\n",
    "prices_np = np.array([[price] for price in prices_csv])\n",
    "print(prices_np)"
   ]
  },
  {
   "cell_type": "code",
   "execution_count": 8,
   "metadata": {},
   "outputs": [
    {
     "name": "stdout",
     "output_type": "stream",
     "text": [
      "47227\n",
      "42504\n",
      "4723\n"
     ]
    }
   ],
   "source": [
    "import random\n",
    "\n",
    "index = [i for i in range(len(titles_ids_np))]\n",
    "random.shuffle(index)\n",
    "\n",
    "train_len = int(len(index) * 0.9)\n",
    "train_index = index[:train_len]\n",
    "test_index = index[train_len:]\n",
    "\n",
    "print(len(titles_ids_np))\n",
    "print(len(train_index))\n",
    "print(len(test_index))"
   ]
  },
  {
   "cell_type": "code",
   "execution_count": 9,
   "metadata": {
    "scrolled": true
   },
   "outputs": [
    {
     "name": "stdout",
     "output_type": "stream",
     "text": [
      "[[  50000]\n",
      " [  50000]\n",
      " [  50000]\n",
      " ...\n",
      " [3100000]\n",
      " [3950000]\n",
      " [3950000]]\n",
      "[[0.        ]\n",
      " [0.        ]\n",
      " [0.        ]\n",
      " ...\n",
      " [0.78205128]\n",
      " [1.        ]\n",
      " [1.        ]]\n"
     ]
    }
   ],
   "source": [
    "from sklearn.preprocessing import MinMaxScaler\n",
    "from sklearn.preprocessing import StandardScaler\n",
    "\n",
    "X_train = titles_ids_np[train_index]\n",
    "X_test = titles_ids_np[test_index]\n",
    "\n",
    "scaler = MinMaxScaler()  # StandardScaler()\n",
    "scaler.fit(prices_np)\n",
    "y_scaled = scaler.transform(prices_np)\n",
    "\n",
    "y_train_scaled = y_scaled[train_index]\n",
    "y_test_scaled = y_scaled[test_index]\n",
    "\n",
    "print(prices_np)\n",
    "print(y_scaled)"
   ]
  },
  {
   "cell_type": "markdown",
   "metadata": {},
   "source": [
    "## Model Parameter Tunning\n",
    "#### 1. Epoch 변경\n",
    "#### 2. Activation 변경\n",
    "#### 3. Optimizer 변경\n",
    "#### 4. Dropout layer 추가 및 변경\n",
    "#### 5. GRU, LSTM layer 추가 및 변경 (, return_sequences=True 변경)\n",
    "#### 6. Embed size 수정"
   ]
  },
  {
   "cell_type": "code",
   "execution_count": 10,
   "metadata": {
    "scrolled": true
   },
   "outputs": [
    {
     "name": "stdout",
     "output_type": "stream",
     "text": [
      "Model: \"sequential\"\n",
      "_________________________________________________________________\n",
      "Layer (type)                 Output Shape              Param #   \n",
      "=================================================================\n",
      "embedding (Embedding)        (None, None, 64)          440000    \n",
      "_________________________________________________________________\n",
      "bidirectional (Bidirectional (None, None, 128)         66048     \n",
      "_________________________________________________________________\n",
      "bidirectional_1 (Bidirection (None, 64)                41216     \n",
      "_________________________________________________________________\n",
      "dense (Dense)                (None, 64)                4160      \n",
      "_________________________________________________________________\n",
      "dropout (Dropout)            (None, 64)                0         \n",
      "_________________________________________________________________\n",
      "dense_1 (Dense)              (None, 1)                 65        \n",
      "=================================================================\n",
      "Total params: 551,489\n",
      "Trainable params: 551,489\n",
      "Non-trainable params: 0\n",
      "_________________________________________________________________\n",
      "SavedModel file does not exist at: baseline_model.h5/{saved_model.pbtxt|saved_model.pb}\n",
      "Train on 42504 samples, validate on 4723 samples\n",
      "Epoch 1/10\n",
      "42504/42504 [==============================] - 26s 620us/sample - loss: 0.0028 - mae: 0.0340 - val_loss: 3.2515e-04 - val_mae: 0.0231\n",
      "Epoch 2/10\n",
      "42504/42504 [==============================] - 19s 446us/sample - loss: 0.0018 - mae: 0.0255 - val_loss: 2.9955e-04 - val_mae: 0.0220\n",
      "Epoch 3/10\n",
      "42504/42504 [==============================] - 19s 439us/sample - loss: 0.0016 - mae: 0.0241 - val_loss: 2.7628e-04 - val_mae: 0.0209\n",
      "Epoch 4/10\n",
      "42504/42504 [==============================] - 19s 442us/sample - loss: 0.0015 - mae: 0.0235 - val_loss: 2.6399e-04 - val_mae: 0.0202\n",
      "Epoch 5/10\n",
      "42504/42504 [==============================] - 19s 444us/sample - loss: 0.0015 - mae: 0.0228 - val_loss: 2.5979e-04 - val_mae: 0.0203\n",
      "Epoch 6/10\n",
      "42504/42504 [==============================] - 19s 436us/sample - loss: 0.0014 - mae: 0.0224 - val_loss: 2.5549e-04 - val_mae: 0.0191\n",
      "Epoch 7/10\n",
      "42504/42504 [==============================] - 19s 437us/sample - loss: 0.0014 - mae: 0.0220 - val_loss: 2.5680e-04 - val_mae: 0.0190\n",
      "Epoch 8/10\n",
      "42504/42504 [==============================] - 19s 435us/sample - loss: 0.0013 - mae: 0.0215 - val_loss: 2.4885e-04 - val_mae: 0.0194\n",
      "Epoch 9/10\n",
      "42504/42504 [==============================] - 19s 441us/sample - loss: 0.0013 - mae: 0.0213 - val_loss: 2.6408e-04 - val_mae: 0.0208\n",
      "Epoch 10/10\n",
      "42504/42504 [==============================] - 19s 441us/sample - loss: 0.0013 - mae: 0.0210 - val_loss: 2.6232e-04 - val_mae: 0.0199\n"
     ]
    }
   ],
   "source": [
    "from tensorflow import keras\n",
    "from tensorflow.keras import layers\n",
    "from tensorflow.keras import losses\n",
    "from tensorflow.keras import optimizers\n",
    "from tensorflow.keras import models\n",
    "\n",
    "vocab_size = len(dictionary)\n",
    "model = keras.Sequential([\n",
    "    layers.Embedding(vocab_size, 64),\n",
    "    layers.Bidirectional(layers.LSTM(64, return_sequences=True)),\n",
    "    layers.Bidirectional(layers.LSTM(32)),\n",
    "    layers.Dense(64, activation='relu'),\n",
    "    layers.Dropout(0.5),\n",
    "    layers.Dense(1)\n",
    "])\n",
    "model.summary()\n",
    "\n",
    "model.compile(loss=losses.MeanSquaredError(), optimizer=optimizers.Adam(1e-4), metrics=['mae'])\n",
    "\n",
    "model_name = \"baseline_model.h5\"\n",
    "try:\n",
    "    model = models.load_model(model_name)\n",
    "except Exception as e:\n",
    "    print(e)\n",
    "    history = model.fit(X_train, y_train_scaled, epochs=10, validation_data=(X_test, y_test_scaled), validation_steps=30, verbose=1)\n",
    "    model.save(model_name)"
   ]
  },
  {
   "cell_type": "code",
   "execution_count": 11,
   "metadata": {},
   "outputs": [],
   "source": [
    "import matplotlib.pyplot as plt\n",
    "\n",
    "def plot_graphs(history, metric):\n",
    "    plt.plot(history.history[metric])\n",
    "    plt.plot(history.history['val_' + metric], '')\n",
    "    plt.xlabel(\"Epochs\")\n",
    "    plt.ylabel(metric)\n",
    "    plt.legend([metric, 'val_' + metric])\n",
    "    plt.show()"
   ]
  },
  {
   "cell_type": "code",
   "execution_count": 12,
   "metadata": {},
   "outputs": [
    {
     "data": {
      "image/png": "[encoded data removed]",
      "text/plain": [
       "<Figure size 432x288 with 1 Axes>"
      ]
     },
     "metadata": {},
     "output_type": "display_data"
    },
    {
     "data": {
      "image/png": "[encoded data removed]",
      "text/plain": [
       "<Figure size 432x288 with 1 Axes>"
      ]
     },
     "metadata": {},
     "output_type": "display_data"
    }
   ],
   "source": [
    "plot_graphs(history, 'mae')\n",
    "plot_graphs(history, 'loss')"
   ]
  },
  {
   "cell_type": "code",
   "execution_count": 17,
   "metadata": {
    "scrolled": true
   },
   "outputs": [
    {
     "name": "stdout",
     "output_type": "stream",
     "text": [
      "0: [100000.] = [113193.65]\n",
      "1: [280000.] = [325458.34]\n",
      "2: [110000.] = [141241.22]\n",
      "3: [65000.] = [64213.387]\n",
      "4: [780000.] = [605617.06]\n",
      "5: [88000.] = [518482.3]\n",
      "6: [940000.] = [906923.8]\n",
      "7: [279000.] = [270836.22]\n",
      "8: [450000.] = [452102.44]\n",
      "9: [160000.] = [173367.17]\n",
      "10: [200000.] = [127701.53]\n",
      "11: [550000.] = [561028.4]\n",
      "12: [100000.] = [131379.84]\n",
      "13: [670000.] = [670197.9]\n",
      "14: [650000.] = [603371.06]\n",
      "15: [1050000.] = [979257.56]\n",
      "16: [250000.] = [288982.1]\n",
      "17: [660000.] = [532334.25]\n",
      "18: [550000.] = [535692.5]\n",
      "19: [600000.] = [643626.44]\n",
      "20: [550000.] = [342998.72]\n",
      "21: [850000.] = [748050.7]\n",
      "22: [640000.] = [428419.16]\n",
      "23: [200000.] = [194555.]\n",
      "24: [297000.] = [231614.27]\n",
      "25: [341500.] = [358658.9]\n",
      "26: [109000.] = [157073.73]\n",
      "27: [270000.] = [149671.81]\n",
      "28: [150000.] = [171863.27]\n",
      "29: [100000.] = [151793.75]\n",
      "30: [80000.] = [108120.03]\n",
      "31: [540000.] = [407356.2]\n",
      "32: [70000.] = [157599.34]\n",
      "33: [280000.] = [292343.2]\n",
      "34: [750000.] = [647836.25]\n",
      "35: [1270000.] = [1201066.2]\n",
      "36: [80000.] = [193035.19]\n",
      "37: [170000.] = [184248.7]\n",
      "38: [840000.] = [287231.94]\n",
      "39: [145000.] = [162917.67]\n",
      "40: [60000.] = [126392.3]\n",
      "41: [85000.] = [136088.19]\n",
      "42: [80000.] = [138125.23]\n",
      "43: [400000.] = [364476.75]\n",
      "44: [149000.] = [253967.81]\n",
      "45: [300000.] = [255896.44]\n",
      "46: [60000.] = [119469.67]\n",
      "47: [130000.] = [133137.77]\n",
      "48: [229000.] = [193353.4]\n",
      "49: [90000.] = [130040.54]\n",
      "50: [340000.] = [314736.9]\n",
      "51: [410000.] = [401996.53]\n",
      "52: [450000.] = [366580.66]\n",
      "53: [430000.] = [400079.78]\n",
      "54: [130000.] = [187472.64]\n",
      "55: [250000.] = [278712.03]\n",
      "56: [230000.] = [183349.5]\n",
      "57: [380000.] = [402914.88]\n",
      "58: [682000.] = [299300.56]\n",
      "59: [190000.] = [264754.1]\n",
      "60: [480000.] = [507011.03]\n",
      "61: [700000.] = [691751.6]\n",
      "62: [95000.] = [205459.56]\n",
      "63: [1021000.] = [267233.4]\n",
      "64: [70000.] = [154604.9]\n",
      "65: [95000.] = [127719.81]\n",
      "66: [270000.] = [294853.9]\n",
      "67: [380000.] = [388263.62]\n",
      "68: [650000.] = [571068.44]\n",
      "69: [320000.] = [331568.84]\n",
      "70: [1180000.] = [1086043.6]\n",
      "71: [130000.] = [224684.1]\n",
      "72: [90000.] = [99472.516]\n",
      "73: [490000.] = [396344.97]\n",
      "74: [255000.] = [247216.27]\n",
      "75: [100000.] = [171973.53]\n",
      "76: [110000.] = [175044.67]\n",
      "77: [330000.] = [326553.03]\n",
      "78: [260000.] = [243774.5]\n",
      "79: [350000.] = [317269.56]\n",
      "80: [87000.] = [226365.83]\n",
      "81: [95000.] = [143964.28]\n",
      "82: [100000.] = [120719.71]\n",
      "83: [330000.] = [345249.38]\n",
      "84: [1210000.] = [1061846.9]\n",
      "85: [1000000.] = [854389.44]\n",
      "86: [80000.] = [73543.734]\n",
      "87: [113500.] = [254089.42]\n",
      "88: [340000.] = [350846.25]\n",
      "89: [130000.] = [178784.45]\n",
      "90: [390000.] = [327450.47]\n",
      "91: [200000.] = [176057.94]\n",
      "92: [220000.] = [332073.38]\n",
      "93: [140000.] = [144109.95]\n",
      "94: [384000.] = [371743.75]\n",
      "95: [990000.] = [720862.6]\n",
      "96: [700000.] = [691639.1]\n",
      "97: [290000.] = [353868.84]\n",
      "98: [250000.] = [301199.1]\n",
      "99: [300000.] = [273296.]\n"
     ]
    }
   ],
   "source": [
    "price_predictions = model.predict(X_test)\n",
    "\n",
    "y_test_inverse = scaler.inverse_transform(y_test_scaled)\n",
    "price_predictions_inverse = scaler.inverse_transform(price_predictions)\n",
    "\n",
    "for i in range(100):\n",
    "    print(f\"{i}: {y_test_inverse[i]} = {price_predictions_inverse[i]}\")"
   ]
  },
  {
   "cell_type": "code",
   "execution_count": 19,
   "metadata": {},
   "outputs": [
    {
     "data": {
      "text/plain": [
       "['KT',\n",
       " '갤럭시',\n",
       " 'Z',\n",
       " '플립',\n",
       " '(',\n",
       " 'F',\n",
       " '700',\n",
       " 'N',\n",
       " ')',\n",
       " '퍼플',\n",
       " '256',\n",
       " '기',\n",
       " '가',\n",
       " '(',\n",
       " '0292512',\n",
       " ')',\n",
       " '판매',\n",
       " 0,\n",
       " 0,\n",
       " 0,\n",
       " 0,\n",
       " 0,\n",
       " 0,\n",
       " 0,\n",
       " 0,\n",
       " 0,\n",
       " 0,\n",
       " 0,\n",
       " 0]"
      ]
     },
     "execution_count": 19,
     "metadata": {},
     "output_type": "execute_result"
    }
   ],
   "source": [
    "ids_to_words(X_test[5])"
   ]
  },
  {
   "cell_type": "code",
   "execution_count": null,
   "metadata": {},
   "outputs": [],
   "source": []
  }
 ],
 "metadata": {
  "kernelspec": {
   "display_name": "Python 3",
   "language": "python",
   "name": "python3"
  },
  "language_info": {
   "codemirror_mode": {
    "name": "ipython",
    "version": 3
   },
   "file_extension": ".py",
   "mimetype": "text/x-python",
   "name": "python",
   "nbconvert_exporter": "python",
   "pygments_lexer": "ipython3",
   "version": "3.8.5"
  }
 },
 "nbformat": 4,
 "nbformat_minor": 2
}
